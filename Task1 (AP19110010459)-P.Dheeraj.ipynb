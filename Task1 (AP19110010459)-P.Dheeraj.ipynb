{
 "cells": [
  {
   "cell_type": "code",
   "execution_count": 72,
   "metadata": {},
   "outputs": [
    {
     "name": "stdout",
     "output_type": "stream",
     "text": [
      "\t\t\t\tNational Voter Service-Information page\n",
      "\n",
      "\n",
      "Enter your age below to know whether you are eligible to vote. If not, how many years should you wait to get eligibility.\n",
      "\n",
      "\n",
      "\t\t\t\t\tEnter your age:15\n",
      "\n",
      "\t\tYou are not eligible to vote. You are eligible to vote after completing 3 more years\n"
     ]
    }
   ],
   "source": [
    "#program to check wheather the user eligible for vote or not\n",
    "print(\"\\t\\t\\t\\tNational Voter Service-Information page\\n\\n\")\n",
    "print(\"Enter your age below to know whether you are eligible to vote. If not, how many years should you wait to get eligibility.\\n\\n\")\n",
    "age = int(input(\"\\t\\t\\t\\t\\tEnter your age:\"))\n",
    "if age >= 18:\n",
    "    print(\"\\n\\t\\t\\t\\t   You are eligible to vote\")\n",
    "else:\n",
    "    print(\"\\n\\t\\tYou are not eligible to vote. You are eligible to vote after completing {number} more years\".format(number=18-age))\n"
   ]
  },
  {
   "cell_type": "code",
   "execution_count": 59,
   "metadata": {},
   "outputs": [
    {
     "name": "stdout",
     "output_type": "stream",
     "text": [
      "\t\t\t\t\t\tEVEN or ODD calculator\n",
      "\n",
      "\n",
      "This will display whether the given number is even or odd. If it is even, it will check if the given even number is divisible  by 4 or not.\n",
      "\n",
      "\t\t\t \n",
      "\t\t\t\tEnter any number: 33\n",
      "\n",
      "\n",
      "\t\t\t\tIt is an odd number\n"
     ]
    }
   ],
   "source": [
    "#checking whether the given number is even or odd. If it's even, then checking if it is divisible by 4 or not\n",
    "print(\"\\t\\t\\t\\t\\t\\tEVEN or ODD calculator\\n\\n\\nThis will display whether the given number is even or odd. If it is even, it will check if the given even number is divisible  by 4 or not.\\n\\n\\t\\t\\t \")\n",
    "a = int(input(\"\\t\\t\\t\\tEnter any number: \"))\n",
    "if a % 2 == 0:\n",
    "    if a % 4  == 0: \n",
    "        print(\"\\n\\n\\t\\t\\tIt is an even number and it is divisible by 4\")\n",
    "    else:\n",
    "        print(\"\\n\\n\\t\\t\\tIt is an even number and not divisible by 4\")\n",
    "else:\n",
    "    print(\"\\n\\n\\t\\t\\t\\tIt is an odd number\")"
   ]
  },
  {
   "cell_type": "code",
   "execution_count": 61,
   "metadata": {},
   "outputs": [
    {
     "name": "stdout",
     "output_type": "stream",
     "text": [
      "\t\t\tPositive or Negitive, let's know it here...\n",
      "\n",
      "\n",
      "\tEnter any number(you can give in decimal values also):-100.2\n",
      "\n",
      "\n",
      "\t\t\t\t\tIt is a negitive number\n"
     ]
    }
   ],
   "source": [
    "#Checking whether the given number is positive or negative\n",
    "print(\"\\t\\t\\tPositive or Negitive, let's know it here...\\n\\n\")\n",
    "a =float(input(\"\\tEnter any number(you can give in decimal values also):\"))\n",
    "if a > 0:\n",
    "    print(\"\\n\\n\\t\\t\\t\\t\\tIt is a positive number\")\n",
    "else:\n",
    "    print(\"\\n\\n\\t\\t\\t\\t\\tIt is a negitive number\")"
   ]
  },
  {
   "cell_type": "code",
   "execution_count": 80,
   "metadata": {},
   "outputs": [
    {
     "name": "stdout",
     "output_type": "stream",
     "text": [
      "\t\t\t\t\tStudent Grade Display System.\n",
      "\n",
      "\n",
      "If you enter your percentage, your grade will be displayed. You will be getting a distinction, or pass, or fail, based on the  percentage you got. Write only the percentage in number, and do not write any '%' symbols.\n",
      "\n",
      "\n",
      "\t\t\t\t    Enter your percentage: 93.5\n",
      "\n",
      "\t\t\t\t\tYour grade: Distinction\n"
     ]
    }
   ],
   "source": [
    "#program to print student grade based on percentage like Distinction,pass or fail\n",
    "#Here, greater than 90% is considered to be distinction, greater than 50% is considered pass, and below 50% is considered failed\n",
    "print(\"\\t\\t\\t\\t\\tStudent Grade Display System.\\n\\n\\nIf you enter your percentage, your grade will be displayed. You will be getting a distinction, or pass, or fail, based on the  percentage you got. Write only the percentage in number, and do not write any '%' symbols.\\n\\n\")\n",
    "percentage = float(input(\"\\t\\t\\t\\t    Enter your percentage: \"))\n",
    "if percentage > 100.0:\n",
    "    print(\"\\n\\t\\t\\t\\t\\t 'Give a valid percentage'\")\n",
    "elif percentage > 90.0:\n",
    "    print(\"\\n\\t\\t\\t\\t\\tYour grade: Distinction\")\n",
    "elif percentage > 50.0:\n",
    "    print(\"\\n\\t\\t\\t\\t\\tYour grade: Pass\")\n",
    "else:\n",
    "    print(\"\\n\\t\\t\\t\\t\\tYour grade: Failed\")"
   ]
  },
  {
   "cell_type": "code",
   "execution_count": 81,
   "metadata": {},
   "outputs": [
    {
     "name": "stdout",
     "output_type": "stream",
     "text": [
      "\t\t\t\t\tLeap year predictor\n",
      "\n",
      "\n",
      "\n",
      "\t\t\t\t\tEnter the Year:1992\n",
      "\n",
      "\n",
      "\t\t\t\t\tIt is a Leap Year\n"
     ]
    }
   ],
   "source": [
    "#Checking whether the given year is Leap or not\n",
    "print(\"\\t\\t\\t\\t\\tLeap year predictor\")\n",
    "y = int(input(\"\\n\\n\\n\\t\\t\\t\\t\\tEnter the Year:\"))\n",
    "if y%4==0 and y%100!=0:\n",
    "    print(\"\\n\\n\\t\\t\\t\\t\\tIt is a Leap Year\")\n",
    "elif y%400==0:\n",
    "    print(\"\\n\\n\\t\\t\\t\\t\\tIt is a Leap Year\")\n",
    "else:\n",
    "    print(\"\\n\\n\\t\\t\\t\\t\\tIt is not a Leap Year\")"
   ]
  },
  {
   "cell_type": "code",
   "execution_count": null,
   "metadata": {},
   "outputs": [],
   "source": []
  }
 ],
 "metadata": {
  "kernelspec": {
   "display_name": "Python 3",
   "language": "python",
   "name": "python3"
  },
  "language_info": {
   "codemirror_mode": {
    "name": "ipython",
    "version": 3
   },
   "file_extension": ".py",
   "mimetype": "text/x-python",
   "name": "python",
   "nbconvert_exporter": "python",
   "pygments_lexer": "ipython3",
   "version": "3.7.4"
  }
 },
 "nbformat": 4,
 "nbformat_minor": 2
}
